{
 "cells": [
  {
   "cell_type": "code",
   "execution_count": 2,
   "id": "12ad4ecc",
   "metadata": {},
   "outputs": [],
   "source": [
    "import pandas as pd\n",
    "from bs4 import BeautifulSoup \n",
    "import requests\n",
    "import re"
   ]
  },
  {
   "cell_type": "code",
   "execution_count": 3,
   "id": "a03dd6f6",
   "metadata": {},
   "outputs": [],
   "source": [
    "url='https://www.racing-statistics.com/en/seasons/2017'"
   ]
  },
  {
   "cell_type": "code",
   "execution_count": 4,
   "id": "fb2ee64f",
   "metadata": {},
   "outputs": [],
   "source": [
    "html_content=requests.get(url).text\n",
    "soup=BeautifulSoup(html_content, 'lxml')"
   ]
  },
  {
   "cell_type": "code",
   "execution_count": 16,
   "id": "5bce1ba7",
   "metadata": {},
   "outputs": [],
   "source": [
    "body=soup.find_all('fieldset', attrs={'class':'block'})[2].find_all('tr')\n",
    "head=body[0]\n",
    "body_rows=body[1:]"
   ]
  },
  {
   "cell_type": "code",
   "execution_count": 18,
   "id": "af0f6c4d",
   "metadata": {},
   "outputs": [],
   "source": [
    "headings = []\n",
    "for item in head.find_all(\"th\"):\n",
    "    item = (item.text).rstrip(\"\\n\")\n",
    "    headings.append(item)"
   ]
  },
  {
   "cell_type": "code",
   "execution_count": 34,
   "id": "6ec2a413",
   "metadata": {},
   "outputs": [
    {
     "name": "stdout",
     "output_type": "stream",
     "text": [
      "Australian Grand Prix\n",
      "Chinese Grand Prix\n",
      "Bahrain Grand Prix\n",
      "Russian Grand Prix\n",
      "Spanish Grand Prix\n",
      "Monaco Grand Prix\n",
      "Canadian Grand Prix\n",
      "Azerbaijan Grand Prix\n",
      "Austrian Grand Prix\n",
      "British Grand Prix\n",
      "Hungarian Grand Prix\n",
      "Belgian Grand Prix\n",
      "Italian Grand Prix\n",
      "Singapore Grand Prix\n",
      "Malaysian Grand Prix\n",
      "Japanese Grand Prix\n",
      "United States Grand Prix\n",
      "Mexican Grand Prix\n",
      "Brazilian Grand Prix\n",
      "Abu Dhabi Grand Prix\n"
     ]
    }
   ],
   "source": [
    "all_rows=[]\n",
    "\n",
    "for row_num in range(len(body_rows)):\n",
    "    row=[]\n",
    "    url_prix=body_rows[row_num].find_all('td')[2].find('a').get('href')\n",
    "    for row_item in body_rows[row_num].find_all(\"td\"):\n",
    "        row.append(re.sub(\"(\\xa0)|(\\n)|,\",\"\",row_item.text))\n",
    "    row.pop(4)\n",
    "    all_rows.append(row)\n",
    "    print(row[2])"
   ]
  },
  {
   "cell_type": "code",
   "execution_count": 31,
   "id": "57a9b491",
   "metadata": {},
   "outputs": [],
   "source": [
    "df = pd.DataFrame(data=all_rows,columns=headings)\n",
    "df.to_csv('2017.csv', index=False)"
   ]
  }
 ],
 "metadata": {
  "kernelspec": {
   "display_name": "Python 3 (ipykernel)",
   "language": "python",
   "name": "python3"
  },
  "language_info": {
   "codemirror_mode": {
    "name": "ipython",
    "version": 3
   },
   "file_extension": ".py",
   "mimetype": "text/x-python",
   "name": "python",
   "nbconvert_exporter": "python",
   "pygments_lexer": "ipython3",
   "version": "3.9.7"
  }
 },
 "nbformat": 4,
 "nbformat_minor": 5
}
