{
 "cells": [
  {
   "cell_type": "code",
   "execution_count": 59,
   "id": "681f0214",
   "metadata": {},
   "outputs": [],
   "source": [
    "import pandas as pd\n",
    "from bs4 import BeautifulSoup \n",
    "import requests\n",
    "import re\n",
    "\n",
    "import os"
   ]
  },
  {
   "cell_type": "code",
   "execution_count": 2,
   "id": "58b6fa9c",
   "metadata": {},
   "outputs": [],
   "source": [
    "url='https://www.racing-statistics.com/en/seasons'"
   ]
  },
  {
   "cell_type": "code",
   "execution_count": 3,
   "id": "fb793c4f",
   "metadata": {},
   "outputs": [],
   "source": [
    "html_content=requests.get(url).text\n",
    "soup=BeautifulSoup(html_content, 'lxml')"
   ]
  },
  {
   "cell_type": "code",
   "execution_count": 52,
   "id": "7836a227",
   "metadata": {},
   "outputs": [],
   "source": [
    "body=soup.find_all('fieldset', attrs={'class':'block'})[0].find_all('tr')\n",
    "head=body[0]\n",
    "body_rows=body[1:]"
   ]
  },
  {
   "cell_type": "code",
   "execution_count": 46,
   "id": "b30ab2fa",
   "metadata": {},
   "outputs": [
    {
     "data": {
      "text/plain": [
       "['#', 'season', 'events']"
      ]
     },
     "execution_count": 46,
     "metadata": {},
     "output_type": "execute_result"
    }
   ],
   "source": [
    "headings = []\n",
    "for item in head.find_all(\"th\"):\n",
    "    item = (item.text).rstrip(\"\\n\")\n",
    "    headings.append(item)\n",
    "headings"
   ]
  },
  {
   "cell_type": "code",
   "execution_count": 62,
   "id": "187ebd8f",
   "metadata": {},
   "outputs": [],
   "source": [
    "all_rows=[]\n",
    "\n",
    "for row_num in range(len(body_rows)):\n",
    "    row=[]\n",
    "    url_season=body_rows[row_num].find_all('td')[1].find('a').get('href')\n",
    "    for row_item in body_rows[row_num].find_all(\"td\"):\n",
    "        row.append(re.sub(\"(\\xa0)|(\\n)|,\",\"\",row_item.text))\n",
    "    all_rows.append(row)\n",
    "#     print(row[1])\n",
    "    newpath = \"Data/\"+str(row[1])\n",
    "    if not os.path.exists(newpath):\n",
    "        os.makedirs(newpath)"
   ]
  },
  {
   "cell_type": "code",
   "execution_count": 54,
   "id": "346bd6eb",
   "metadata": {},
   "outputs": [],
   "source": [
    "df = pd.DataFrame(data=all_rows,columns=headings)\n",
    "df.to_csv('History.csv', index=False)"
   ]
  }
 ],
 "metadata": {
  "kernelspec": {
   "display_name": "Python 3 (ipykernel)",
   "language": "python",
   "name": "python3"
  },
  "language_info": {
   "codemirror_mode": {
    "name": "ipython",
    "version": 3
   },
   "file_extension": ".py",
   "mimetype": "text/x-python",
   "name": "python",
   "nbconvert_exporter": "python",
   "pygments_lexer": "ipython3",
   "version": "3.9.7"
  }
 },
 "nbformat": 4,
 "nbformat_minor": 5
}
